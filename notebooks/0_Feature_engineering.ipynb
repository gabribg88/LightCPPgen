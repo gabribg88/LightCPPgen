{
 "cells": [
  {
   "cell_type": "code",
   "execution_count": 3,
   "id": "402737d0-6bb2-4804-a6e8-6b305b444b2e",
   "metadata": {
    "tags": []
   },
   "outputs": [
    {
     "name": "stdout",
     "output_type": "stream",
     "text": [
      "The autoreload extension is already loaded. To reload it, use:\n",
      "  %reload_ext autoreload\n"
     ]
    }
   ],
   "source": [
    "import os\n",
    "import sys\n",
    "import json\n",
    "import pandas as pd\n",
    "sys.path.append('../src/')\n",
    "from configs import *\n",
    "from feature_engineering import *\n",
    "\n",
    "from matplotlib import rcParams\n",
    "import matplotlib.pyplot as plt\n",
    "import matplotlib.gridspec as gridspec\n",
    "rcParams.update(fig_params)\n",
    "\n",
    "import warnings\n",
    "warnings.filterwarnings('ignore')\n",
    "\n",
    "%load_ext autoreload\n",
    "%autoreload 2"
   ]
  },
  {
   "cell_type": "markdown",
   "id": "2421a27f-2800-4e98-ada2-11561be99915",
   "metadata": {},
   "source": [
    "## Settings"
   ]
  },
  {
   "cell_type": "code",
   "execution_count": 4,
   "id": "e7586c00-b688-4f35-8758-230f5fd9443f",
   "metadata": {
    "tags": []
   },
   "outputs": [],
   "source": [
    "data_folder = os.path.join('..', 'data')\n",
    "features_folder = os.path.join('..', 'features')\n",
    "\n",
    "train_fasta_file = os.path.join(data_folder, 'MLCPP2_Training.fasta')\n",
    "test_fasta_file = os.path.join(data_folder, 'MLCPP2_Independent.fasta')\n",
    "\n",
    "train_targets_file = os.path.join(data_folder, 'MLCPP2_TrainingCPPvalues.csv')\n",
    "test_targets_file = os.path.join(data_folder, 'MLCPP2_IndependentCPPvalues.csv')"
   ]
  },
  {
   "cell_type": "markdown",
   "id": "aa61c5d5-ce1e-4a7f-9e08-08952ca2210b",
   "metadata": {},
   "source": [
    "## Feature engineering"
   ]
  },
  {
   "cell_type": "markdown",
   "id": "5d2d6b37-b5f1-4e29-9736-7d25e391622e",
   "metadata": {},
   "source": [
    "### Structure-based descriptors (Physicochemical properties)"
   ]
  },
  {
   "cell_type": "code",
   "execution_count": 5,
   "id": "bbb200d9-978c-4a80-a6d4-2d7adb3d6b4f",
   "metadata": {
    "tags": []
   },
   "outputs": [],
   "source": [
    "comb = create_comb_MLCPP2(train_fasta_file, train_targets_file, test_fasta_file, test_targets_file)"
   ]
  },
  {
   "cell_type": "code",
   "execution_count": 6,
   "id": "0b8017be-8b1f-4369-9cca-416accdf5e07",
   "metadata": {
    "tags": []
   },
   "outputs": [],
   "source": [
    "comb = add_structure_based_descriptors(df=comb, dataset_name='comb', save_folder=features_folder, return_df=True)"
   ]
  },
  {
   "cell_type": "markdown",
   "id": "e04f0fff-8612-4331-8485-f755c699e3c2",
   "metadata": {},
   "source": [
    "### Sequence-based descriptors"
   ]
  },
  {
   "cell_type": "code",
   "execution_count": 7,
   "id": "28d8c68d-391f-4a51-82f0-ff564be23759",
   "metadata": {
    "tags": []
   },
   "outputs": [],
   "source": [
    "comb = create_comb_MLCPP2(train_fasta_file, train_targets_file, test_fasta_file, test_targets_file)"
   ]
  },
  {
   "cell_type": "code",
   "execution_count": 8,
   "id": "37dfa947-8e57-48dc-89b8-e481e1fc6dea",
   "metadata": {
    "scrolled": true,
    "tags": []
   },
   "outputs": [
    {
     "name": "stdout",
     "output_type": "stream",
     "text": [
      "File imported successfully.\n",
      "File imported successfully.\n",
      "AAC: done in 0.150 s\n",
      "File imported successfully.\n",
      "File imported successfully.\n",
      "CKSAAP type 1: done in 5.735 s\n",
      "File imported successfully.\n",
      "File imported successfully.\n",
      "TPC type 1: done in 1602.966 s\n",
      "File imported successfully.\n",
      "File imported successfully.\n",
      "DPC type 1: done in 5.196 s\n",
      "File imported successfully.\n",
      "File imported successfully.\n",
      "DDE: done in 6.581 s\n",
      "File imported successfully.\n",
      "File imported successfully.\n",
      "GAAC: done in 0.067 s\n",
      "File imported successfully.\n",
      "File imported successfully.\n",
      "CKSAAGP type 1: done in 1.559 s\n",
      "File imported successfully.\n",
      "File imported successfully.\n",
      "GDPC type 1: done in 0.149 s\n",
      "File imported successfully.\n",
      "File imported successfully.\n",
      "GTPC type 1: done in 0.479 s\n",
      "File imported successfully.\n",
      "File imported successfully.\n",
      "Moran: done in 3.521 s\n",
      "File imported successfully.\n",
      "File imported successfully.\n",
      "Geary: done in 3.550 s\n",
      "File imported successfully.\n",
      "File imported successfully.\n",
      "NMBroto: done in 2.219 s\n",
      "File imported successfully.\n",
      "File imported successfully.\n",
      "CTDC: done in 0.315 s\n",
      "File imported successfully.\n",
      "File imported successfully.\n",
      "CTDT: done in 0.568 s\n",
      "File imported successfully.\n",
      "File imported successfully.\n",
      "CTDD: done in 1.801 s\n",
      "File imported successfully.\n",
      "File imported successfully.\n",
      "CTriad: done in 2.377 s\n",
      "File imported successfully.\n",
      "File imported successfully.\n",
      "KSCTriad: done in 4.745 s\n",
      "File imported successfully.\n",
      "File imported successfully.\n",
      "SOCNumber: done in 0.434 s\n",
      "File imported successfully.\n",
      "File imported successfully.\n",
      "QSOrder: done in 0.657 s\n",
      "File imported successfully.\n",
      "File imported successfully.\n",
      "PAAC: done in 0.242 s\n",
      "File imported successfully.\n",
      "File imported successfully.\n",
      "APAAC: done in 0.172 s\n",
      "File imported successfully.\n",
      "File imported successfully.\n",
      "ASDC: done in 1.562 s\n",
      "File imported successfully.\n",
      "File imported successfully.\n",
      "AC: done in 1.049 s\n",
      "File imported successfully.\n",
      "File imported successfully.\n",
      "CC: done in 8.343 s\n",
      "File imported successfully.\n",
      "File imported successfully.\n",
      "ACC: done in 9.368 s\n"
     ]
    }
   ],
   "source": [
    "comb = add_sequence_based_descriptors(df=comb, train_fasta_file=train_fasta_file, test_fasta_file=test_fasta_file,\n",
    "                                      parameters_setting_file=os.path.join('..', 'data', 'Protein_parameters_setting.json'),\n",
    "                                      descriptors=['AAC',\n",
    "                                                   'CKSAAP type 1',\n",
    "                                                   'TPC type 1',  ## THIS COMPUTATION REQUIRES > 20mins\n",
    "                                                   'DPC type 1',\n",
    "                                                   'DDE',\n",
    "                                                   'GAAC',\n",
    "                                                   'CKSAAGP type 1',\n",
    "                                                   'GDPC type 1',\n",
    "                                                   'GTPC type 1',\n",
    "                                                   'Moran',\n",
    "                                                   'Geary',\n",
    "                                                   'NMBroto',\n",
    "                                                   'CTDC',\n",
    "                                                   'CTDT',\n",
    "                                                   'CTDD',\n",
    "                                                   'CTriad',\n",
    "                                                   'KSCTriad',\n",
    "                                                   'SOCNumber',\n",
    "                                                   'QSOrder',\n",
    "                                                   'PAAC',\n",
    "                                                   'APAAC',\n",
    "                                                   'ASDC',\n",
    "                                                   'AC',\n",
    "                                                   'CC',\n",
    "                                                   'ACC'],\n",
    "                                       dataset_name='comb', save_folder=features_folder, return_df=True)"
   ]
  },
  {
   "cell_type": "code",
   "execution_count": 9,
   "id": "5ea7ae76-50ed-41e3-842b-36e504ace048",
   "metadata": {
    "scrolled": true,
    "tags": []
   },
   "outputs": [
    {
     "name": "stdout",
     "output_type": "stream",
     "text": [
      "File imported successfully.\n",
      "File imported successfully.\n",
      "EAAC: done in 0.219 s\n",
      "File imported successfully.\n",
      "File imported successfully.\n",
      "EGAAC: done in 0.262 s\n",
      "File imported successfully.\n",
      "File imported successfully.\n",
      "AAIndex: done in 0.116 s\n",
      "File imported successfully.\n",
      "File imported successfully.\n",
      "BLOSUM62: done in 0.251 s\n",
      "File imported successfully.\n",
      "File imported successfully.\n",
      "ZScale: done in 0.100 s\n"
     ]
    }
   ],
   "source": [
    "comb = create_comb_MLCPP2(train_fasta_file, train_targets_file, test_fasta_file, test_targets_file)\n",
    "\n",
    "comb = add_sequence_based_descriptors(df=comb,\n",
    "                                      train_fasta_file=os.path.join(data_folder, 'MLCPP2_Training_equal_length.fasta'),\n",
    "                                      test_fasta_file=os.path.join(data_folder, 'MLCPP2_Independent_equal_length.fasta'),\n",
    "                                      parameters_setting_file=os.path.join('..', 'data', 'Protein_parameters_setting.json'),\n",
    "                                      descriptors=['EAAC',\n",
    "                                                   'EGAAC',\n",
    "                                                   'AAIndex',\n",
    "                                                   'BLOSUM62',\n",
    "                                                   'ZScale'],\n",
    "                                       dataset_name='comb', save_folder=features_folder, return_df=True)"
   ]
  }
 ],
 "metadata": {
  "kernelspec": {
   "display_name": "Python 3 (ipykernel)",
   "language": "python",
   "name": "python3"
  },
  "language_info": {
   "codemirror_mode": {
    "name": "ipython",
    "version": 3
   },
   "file_extension": ".py",
   "mimetype": "text/x-python",
   "name": "python",
   "nbconvert_exporter": "python",
   "pygments_lexer": "ipython3",
   "version": "3.10.14"
  }
 },
 "nbformat": 4,
 "nbformat_minor": 5
}
